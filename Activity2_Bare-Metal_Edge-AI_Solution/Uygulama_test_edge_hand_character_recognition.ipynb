{
 "cells": [
  {
   "cell_type": "markdown",
   "metadata": {},
   "source": [
    "<p align=\"center\"><img src=\"../Additionals/Empa-Workshops-Template-Banner2.png\" alt=\"University Workshops\" style=\"display: block; margin: 0 auto\" height=/></p>"
   ]
  },
  {
   "cell_type": "markdown",
   "metadata": {},
   "source": [
    "## Accelerator Workshops'a Hoşgeldiniz!\n",
    "\n",
    "Empa Electronics tarafından düzenlenen Accelerators Workshops etkinlikleri serimizin Uçta Yapay Zeka adımına hoşgeldiniz. Bu açık-kaynak repository, workshop etkiliğimizde deneyimleyeceğiniz \"ST Platformları İçin Edge-AI Çözümleri Geliştirme\" uygulaması çalışma ortamını edinebilmeniz ve aktivitelere kolaylıkla eşlik edebilmeniz için sizinle paylaşılmıştır.\n",
    "\n",
    "Bu script, uygulama içeriğinde geliştirilen modelin uç birimde testi için oluşturulmuştur.\n",
    "\n",
    "**Uygulama Adımları:**\n",
    "\n",
    "1. Gereksinimlerin Dahil Edilmesi\n",
    "2. Seri Port ile Veri Örneği Okuma & Eğitilmiş Modeli Kullanarak Tahminleme"
   ]
  },
  {
   "cell_type": "markdown",
   "metadata": {},
   "source": [
    "## 1. Gereksinimlerin Dahil Edilmesi"
   ]
  },
  {
   "cell_type": "markdown",
   "metadata": {},
   "source": [
    "Gerekli modeller için import işlemi:"
   ]
  },
  {
   "cell_type": "code",
   "execution_count": null,
   "metadata": {},
   "outputs": [
    {
     "name": "stderr",
     "output_type": "stream",
     "text": [
      "2024-06-06 15:52:26.114092: I tensorflow/tsl/cuda/cudart_stub.cc:28] Could not find cuda drivers on your machine, GPU will not be used.\n",
      "2024-06-06 15:52:26.148306: I tensorflow/tsl/cuda/cudart_stub.cc:28] Could not find cuda drivers on your machine, GPU will not be used.\n",
      "2024-06-06 15:52:26.148606: I tensorflow/core/platform/cpu_feature_guard.cc:182] This TensorFlow binary is optimized to use available CPU instructions in performance-critical operations.\n",
      "To enable the following instructions: AVX2 FMA, in other operations, rebuild TensorFlow with the appropriate compiler flags.\n",
      "2024-06-06 15:52:26.806066: W tensorflow/compiler/tf2tensorrt/utils/py_utils.cc:38] TF-TRT Warning: Could not find TensorRT\n"
     ]
    }
   ],
   "source": [
    "import cv2\n",
    "import numpy as np\n",
    "import serial\n",
    "from PIL import Image"
   ]
  },
  {
   "cell_type": "markdown",
   "metadata": {},
   "source": [
    "## 3. Seri Port ile Veri Örneği Okuma & Eğitilmiş Modeli Kullanarak Tahminleme"
   ]
  },
  {
   "cell_type": "markdown",
   "metadata": {},
   "source": [
    "Seri port konfigürasyonu için gerekli değerlerin tanımlanması:"
   ]
  },
  {
   "cell_type": "code",
   "execution_count": null,
   "metadata": {},
   "outputs": [],
   "source": [
    "serial_port = '/dev/ttyACM0'   # Ubuntu\n",
    "# serial_port = 'COM0'         # Windows\n",
    "baud_rate = 115200\n",
    "time_out = 2"
   ]
  },
  {
   "cell_type": "markdown",
   "metadata": {},
   "source": [
    "Seri port üzerinden veri okuma & okunan veri örneklerinin tahminlenmesi"
   ]
  },
  {
   "cell_type": "code",
   "execution_count": null,
   "metadata": {},
   "outputs": [],
   "source": [
    "class HandCharApp:\n",
    "    def __init__(self, serialport, baudrate, timeout):\n",
    "        self.serialport = serialport\n",
    "        self.baudrate = baudrate\n",
    "        self.timeout = timeout\n",
    "        self.line = None\n",
    "        self.name_class = None\n",
    "        self.conf_vertical = -1\n",
    "        self.conf_horizontal = -1\n",
    "        self.conf_stanby = -1\n",
    "        self.conf_circle = -1\n",
    "        self.conf_triangle = -1\n",
    "        \n",
    "        self.read_background()\n",
    "        self.name_app = \"Hand Character Recognition - GUI - Empa Electronics\"\n",
    "\n",
    "    def read_data(self):\n",
    "        with serial.Serial(self.serialport, self.baudrate, timeout=5) as ser_read:\n",
    "            line = ser_read.readline()\n",
    "            self.line = str(line).replace(\"b'\", \"\").replace(\"\\\\n'\", \"\").split(\" \")\n",
    "            \n",
    "            if len(self.line) == 6 and self.line[0] in [\"circle\", \"horizontal\", \"standby\", \"triangle\", \"vertical\"]:\n",
    "                self.name_class,  self.conf_circle, self.conf_horizontal, self.conf_stanby, self.conf_triangle, self.conf_vertical = self.line\n",
    "            else:\n",
    "                self.line = None\n",
    "\n",
    "    def read_background(self):\n",
    "        self.image_bg = cv2.cvtColor(np.array(Image.open(\"Additionals/Demo-Image-Hand-Character.png\")), cv2.COLOR_RGB2BGR)\n",
    "\n",
    "    def get_class_roi(self):\n",
    "        image = self.image_bg\n",
    "        self.roi_circle = image[:, :300].copy()\n",
    "        self.roi_horizontal = image[:, 300:620].copy()\n",
    "        self.roi_standby = image[:, 620:950].copy()\n",
    "        self.roi_triangle = image[:, 950:1300].copy()\n",
    "        self.roi_vertical = image[:, 1300:].copy()\n",
    "\n",
    "    def paint_class_roi(self):\n",
    "        \n",
    "        if self.name_class == \"circle\":\n",
    "            roi = self.roi_circle.copy()\n",
    "            mask = np.all(roi == [255, 255, 255], axis=-1)\n",
    "            roi[mask] = [0, 255, 255]\n",
    "            self.image_gui[:, :300] = roi\n",
    "\n",
    "        elif self.name_class == \"horizontal\":\n",
    "            roi = self.roi_horizontal.copy()\n",
    "            mask = np.all(roi == [255, 255, 255], axis=-1)\n",
    "            roi[mask] = [0, 255, 255]\n",
    "            self.image_gui[:, 300:620] = roi\n",
    "\n",
    "        elif self.name_class == \"standby\":\n",
    "            roi = self.roi_standby.copy()\n",
    "            # print(self.roi_standby.shape, self.roi_standby.dtype)\n",
    "            # print(self.roi_standby)\n",
    "            mask = np.all(roi == [255, 255, 255], axis=-1)\n",
    "            roi[mask] = [0, 255, 255]\n",
    "            self.image_gui[:, 620:950] = roi\n",
    "\n",
    "        elif self.name_class == \"triangle\":\n",
    "            roi = self.roi_triangle.copy()\n",
    "            mask = np.all(roi == [255, 255, 255], axis=-1)\n",
    "            roi[mask] = [0, 255, 255]\n",
    "            self.image_gui[:, 950:1300] = roi\n",
    "\n",
    "        elif self.name_class == \"vertical\":\n",
    "            roi = self.roi_vertical.copy()\n",
    "            mask = np.all(roi == [255, 255, 255], axis=-1)\n",
    "            roi[mask] = [0, 255, 255]\n",
    "            self.image_gui[:, 1300:] = roi\n",
    "\n",
    "\n",
    "    def print_confidences(self):\n",
    "        self.image_gui = self.image_bg.copy()\n",
    "        \n",
    "        # print(self.conf_circle, self.conf_horizontal, self.conf_stanby, self.conf_triangle, self.conf_vertical)\n",
    "\n",
    "        self.conf_circle = float(self.conf_circle)\n",
    "        self.conf_horizontal = float(self.conf_horizontal)\n",
    "        self.conf_stanby = float(self.conf_stanby)\n",
    "        self.conf_triangle = float(self.conf_triangle)\n",
    "        self.conf_vertical = float(self.conf_vertical)\n",
    "           \n",
    "        cv2.putText(self.roi_circle, f\"{self.conf_circle*100}%\", (130, 750), cv2.FONT_HERSHEY_DUPLEX, 1.3, (255, 255, 255), 2)\n",
    "        cv2.putText(self.roi_horizontal, f\"{self.conf_horizontal*100}%\", (100, 750), cv2.FONT_HERSHEY_DUPLEX, 1.3, (255, 255, 255), 2)\n",
    "        cv2.putText(self.roi_standby, f\"{self.conf_stanby*100}%\", (100, 750), cv2.FONT_HERSHEY_DUPLEX, 1.3, (255, 255, 255), 2)\n",
    "        cv2.putText(self.roi_triangle, f\"{self.conf_triangle*100}%\", (100, 750), cv2.FONT_HERSHEY_DUPLEX, 1.3, (255, 255, 255), 2)\n",
    "        cv2.putText(self.roi_vertical, f\"{self.conf_vertical*100}%\", (50, 750), cv2.FONT_HERSHEY_DUPLEX, 1.3, (255, 255, 255), 2)\n",
    "\n",
    "    def display_gui(self):\n",
    "        cv2.namedWindow(self.name_app, cv2.WINDOW_FREERATIO)\n",
    "        cv2.imshow(self.name_app, self.image_gui)\n",
    "        \n",
    "    def print_to_terminal(self):\n",
    "        print(self.line)\n",
    "        \n",
    "    def run_app(self):\n",
    "        while True:\n",
    "            self.read_data()\n",
    "            # self.print_to_terminal()\n",
    "            self.get_class_roi()\n",
    "            self.print_confidences()\n",
    "            self.paint_class_roi()\n",
    "            self.display_gui()\n",
    "\n",
    "            if cv2.waitKey(20) & 0xFF == ord('q'):\n",
    "                break\n",
    "\n",
    "        cv2.destroyAllWindows()"
   ]
  },
  {
   "cell_type": "code",
   "execution_count": null,
   "metadata": {},
   "outputs": [],
   "source": [
    "if __name__ == \"__main__\":\n",
    "    app = HandCharApp(serial_port, baud_rate, time_out)\n",
    "    app.run_app()"
   ]
  }
 ],
 "metadata": {
  "kernelspec": {
   "display_name": "my_venv",
   "language": "python",
   "name": "python3"
  },
  "language_info": {
   "codemirror_mode": {
    "name": "ipython",
    "version": 3
   },
   "file_extension": ".py",
   "mimetype": "text/x-python",
   "name": "python",
   "nbconvert_exporter": "python",
   "pygments_lexer": "ipython3",
   "version": "3.8.10"
  }
 },
 "nbformat": 4,
 "nbformat_minor": 2
}
